{
  "cells": [
    {
      "cell_type": "code",
      "execution_count": null,
      "id": "6olpz1eCqb3u",
      "metadata": {
        "id": "6olpz1eCqb3u"
      },
      "outputs": [],
      "source": [
        "from google.cloud import storage\n",
        "from google.cloud import bigquery\n",
        "import os\n",
        "import json\n"
      ]
    },
    {
      "cell_type": "code",
      "execution_count": null,
      "id": "6036qy0NMWfDG6jPLl4aVqCr",
      "metadata": {
        "id": "6036qy0NMWfDG6jPLl4aVqCr",
        "tags": []
      },
      "outputs": [],
      "source": [
        "# Configuration\n",
        "\n",
        "GCP_PROJECT_ID = ! gcloud config get project\n",
        "GCP_PROJECT_ID = GCP_PROJECT_ID[0]\n",
        "LOCATION = \"us-central1\"\n",
        "IMPORT_BUCKET_NAME = f\"{GCP_PROJECT_ID}-lab-data-import\"\n",
        "ENTRY_GROUP_NAME = \"databricks\"\n",
        "IMPORT_FILE = \"databricks_import.json\""
      ]
    },
    {
      "cell_type": "code",
      "execution_count": null,
      "id": "6FC8b-trpAPb",
      "metadata": {
        "id": "6FC8b-trpAPb"
      },
      "outputs": [],
      "source": [
        "import google.auth\n",
        "from google.auth.transport.requests import AuthorizedSession\n",
        "from requests import HTTPError\n",
        "from typing import Any, Optional, Dict\n",
        "\n",
        "def call_google_api(\n",
        "    url: str,\n",
        "    http_verb: str,\n",
        "    request_body: Optional[Dict[str, Any]] = None\n",
        ") -> Dict[str, Any]:\n",
        "    creds, project = google.auth.default(\n",
        "        scopes=[\"https://www.googleapis.com/auth/cloud-platform\"]\n",
        "    )\n",
        "    authed_session = AuthorizedSession(creds)\n",
        "    try:\n",
        "        response = authed_session.request(\n",
        "            method=http_verb,\n",
        "            url=url,\n",
        "            json=request_body  # requests handles None for json param gracefully\n",
        "        )\n",
        "\n",
        "        response.raise_for_status()\n",
        "\n",
        "        if response.status_code == 204:\n",
        "            return {}\n",
        "\n",
        "        return response.json()\n",
        "\n",
        "    except HTTPError as e:\n",
        "        # Provide more structured error information\n",
        "        error_message = f\"API call failed with status {e.response.status_code}: {e.response.text}\"\n",
        "        print(error_message) # Or use logging\n",
        "        raise RuntimeError(error_message) from e"
      ]
    },
    {
      "cell_type": "code",
      "source": [
        "def create_aspect_types():\n",
        "  aspect_types = [\n",
        "      \"databricks-metastore\",\n",
        "      \"databricks-catalog\",\n",
        "      \"databricks-schema\",\n",
        "      \"databricks-table\",\n",
        "      \"databricks-view\",\n",
        "      \"databricks-functions\",\n",
        "      \"databricks-models\",\n",
        "      \"databricks-volumes\"\n",
        "  ]\n",
        "\n",
        "\n",
        "  for at in aspect_types:\n",
        "    request_body = {\n",
        "        \"displayName\": f\"Databricks Metadata Marker for {at}\",\n",
        "        \"description\": \"A simple marker for assets sourced from Databricks environments.\",\n",
        "        \"metadataTemplate\": {\n",
        "        \"name\": f\"{at}\",\n",
        "        \"type\": \"record\"\n",
        "      }\n",
        "    }\n",
        "    print(request_body)\n",
        "\n",
        "    url = f\"https://dataplex.googleapis.com/v1/projects/{GCP_PROJECT_ID}/locations/{LOCATION}/aspectTypes?aspectTypeId={at}\"\n",
        "    response = call_google_api(url, \"POST\", request_body)\n",
        "    pretty_json = json.dumps(response, indent=4, sort_keys=True)\n",
        "    print(pretty_json)\n",
        "\n",
        "create_aspect_types()\n"
      ],
      "metadata": {
        "id": "UxOam-8yX5P9"
      },
      "id": "UxOam-8yX5P9",
      "execution_count": null,
      "outputs": []
    },
    {
      "cell_type": "code",
      "execution_count": null,
      "id": "a25f08fa",
      "metadata": {
        "id": "a25f08fa"
      },
      "outputs": [],
      "source": [
        "def create_duc_entry():\n",
        "  #create dataplex universal catalog entry group\n",
        "  ! gcloud dataplex entry-groups create {ENTRY_GROUP_NAME} --location={LOCATION}\n",
        "\n",
        "create_duc_entry()"
      ]
    },
    {
      "cell_type": "code",
      "execution_count": null,
      "id": "6fc98870",
      "metadata": {
        "id": "6fc98870"
      },
      "outputs": [],
      "source": [
        "def create_duc_entry_types():\n",
        "  #create dataplex universal catalog entry type\n",
        "\n",
        "  entry_types = [\n",
        "      \"databricks-metastore\",\n",
        "      \"databricks-catalog\",\n",
        "      \"databricks-schema\",\n",
        "      \"databricks-table\",\n",
        "      \"databricks-view\",\n",
        "      \"databricks-functions\",\n",
        "      \"databricks-models\",\n",
        "      \"databricks-volumes\"\n",
        "  ]\n",
        "\n",
        "  for et in entry_types:\n",
        "    !gcloud dataplex entry-types create {et} --location={LOCATION}\n",
        "\n",
        "create_duc_entry_types()"
      ]
    },
    {
      "cell_type": "code",
      "execution_count": null,
      "id": "LF7vBAyapImd",
      "metadata": {
        "id": "LF7vBAyapImd"
      },
      "outputs": [],
      "source": [
        "#create bucket if it does not exist\n",
        "def create_storage_bucket():\n",
        "  storage_client = storage.Client(project=GCP_PROJECT_ID)\n",
        "  buckets = storage_client.list_buckets()\n",
        "  bucket_names = [bucket.name for bucket in buckets]\n",
        "\n",
        "  bucket = storage_client.bucket(IMPORT_BUCKET_NAME)\n",
        "\n",
        "  if not bucket.exists():\n",
        "      try:\n",
        "          bucket = storage_client.create_bucket(IMPORT_BUCKET_NAME)\n",
        "          print(f\"Bucket {bucket.name} created.\")\n",
        "      except Exception as e:\n",
        "          print(f\"Error creating bucket: {e}\")\n",
        "  else:\n",
        "      print(f\"Bucket {IMPORT_BUCKET_NAME} already exists.\")\n",
        "\n",
        "create_storage_bucket()"
      ]
    },
    {
      "cell_type": "code",
      "execution_count": null,
      "id": "bf31333c",
      "metadata": {
        "id": "bf31333c"
      },
      "outputs": [],
      "source": [
        "# define import payload\n",
        "dataplex_import_payload_json = f\"\"\"\n",
        "{{\"entry\": {{\"name\": \"projects/{GCP_PROJECT_ID}/locations/{LOCATION}/entryGroups/databricks/entries/metastore_aws_us_east_2\", \"entryType\": \"projects/{GCP_PROJECT_ID}/locations/{LOCATION}/entryTypes/databricks-metastore\", \"aspects\": {{\"{GCP_PROJECT_ID}.{LOCATION}.databricks-metastore\": {{\"aspectType\": \"{GCP_PROJECT_ID}.{LOCATION}.databricks-metastore\", \"data\": {{}}, \"path\": \"\"}}}}, \"fullyQualifiedName\": \"custom:`metastore_aws_us_east_2`\", \"parentEntry\": \"\"}}, \"aspectKeys\": [\"{GCP_PROJECT_ID}.{LOCATION}.databricks-metastore\"], \"updateMask\": \"aspects\"}}\n",
        "{{\"entry\": {{\"name\": \"projects/{GCP_PROJECT_ID}/locations/{LOCATION}/entryGroups/databricks/entries/metastore_aws_us_east_2/catalog/samples\", \"entryType\": \"projects/{GCP_PROJECT_ID}/locations/{LOCATION}/entryTypes/databricks-catalog\", \"aspects\": {{\"{GCP_PROJECT_ID}.{LOCATION}.databricks-catalog\": {{\"aspectType\": \"{GCP_PROJECT_ID}.{LOCATION}.databricks-catalog\", \"data\": {{}}, \"path\": \"\"}}}}, \"parentEntry\": \"projects/{GCP_PROJECT_ID}/locations/{LOCATION}/entryGroups/databricks/entries/metastore_aws_us_east_2\", \"fullyQualifiedName\": \"custom:`metastore_aws_us_east_2`.samples\"}}, \"aspectKeys\": [\"{GCP_PROJECT_ID}.{LOCATION}.databricks-catalog\"], \"updateMask\": \"aspects\"}}\n",
        "{{\"entry\":{{\"name\":\"projects/{GCP_PROJECT_ID}/locations/{LOCATION}/entryGroups/databricks/entries/metastore_aws_us_east_2/catalog/samples/schemas/tpch\",\"fullyQualifiedName\":\"custom:`metastore_aws_us_east_2`.samples.tpch\",\"parentEntry\":\"projects/{GCP_PROJECT_ID}/locations/{LOCATION}/entryGroups/databricks/entries/metastore_aws_us_east_2/catalog/samples\",\"entrySource\":{{\"displayName\":\"tpch\",\"system\":\"custom\"}},\"aspects\":{{\"{GCP_PROJECT_ID}.{LOCATION}.databricks-schema\":{{\"aspectType\":\"{GCP_PROJECT_ID}.{LOCATION}.databricks-schema\",\"data\":{{}}}}}},\"entryType\":\"projects/{GCP_PROJECT_ID}/locations/{LOCATION}/entryTypes/databricks-schema\"}},\"aspectKeys\":[\"{GCP_PROJECT_ID}.{LOCATION}.databricks-schema\"],\"updateMask\":[\"aspects\"]}}\n",
        "{{\"entry\":{{\"name\":\"projects/{GCP_PROJECT_ID}/locations/{LOCATION}/entryGroups/databricks/entries/metastore_aws_us_east_2/catalog/samples/schemas/bakehouse\",\"fullyQualifiedName\":\"custom:`metastore_aws_us_east_2`.samples.bakehouse\",\"parentEntry\":\"projects/{GCP_PROJECT_ID}/locations/{LOCATION}/entryGroups/databricks/entries/metastore_aws_us_east_2/catalog/samples\",\"entrySource\":{{\"displayName\":\"bakehouse\",\"system\":\"custom\"}},\"aspects\":{{\"{GCP_PROJECT_ID}.{LOCATION}.databricks-schema\":{{\"aspectType\":\"{GCP_PROJECT_ID}.{LOCATION}.databricks-schema\",\"data\":{{}}}}}},\"entryType\":\"projects/{GCP_PROJECT_ID}/locations/{LOCATION}/entryTypes/databricks-schema\"}},\"aspectKeys\":[\"{GCP_PROJECT_ID}.{LOCATION}.databricks-schema\"],\"updateMask\":[\"aspects\"]}}\n",
        "{{\"entry\":{{\"name\":\"projects/{GCP_PROJECT_ID}/locations/{LOCATION}/entryGroups/databricks/entries/metastore_aws_us_east_2/catalog/samples/schemas/healthverity\",\"fullyQualifiedName\":\"custom:`metastore_aws_us_east_2`.samples.healthverity\",\"parentEntry\":\"projects/{GCP_PROJECT_ID}/locations/{LOCATION}/entryGroups/databricks/entries/metastore_aws_us_east_2/catalog/samples\",\"entrySource\":{{\"displayName\":\"healthverity\",\"system\":\"custom\"}},\"aspects\":{{\"{GCP_PROJECT_ID}.{LOCATION}.databricks-schema\":{{\"aspectType\":\"{GCP_PROJECT_ID}.{LOCATION}.databricks-schema\",\"data\":{{}}}}}},\"entryType\":\"projects/{GCP_PROJECT_ID}/locations/{LOCATION}/entryTypes/databricks-schema\"}},\"aspectKeys\":[\"{GCP_PROJECT_ID}.{LOCATION}.databricks-schema\"],\"updateMask\":[\"aspects\"]}}\n",
        "{{\"entry\":{{\"name\":\"projects/{GCP_PROJECT_ID}/locations/{LOCATION}/entryGroups/databricks/entries/metastore_aws_us_east_2/catalog/samples/schemas/accuweather\",\"fullyQualifiedName\":\"custom:`metastore_aws_us_east_2`.samples.accuweather\",\"parentEntry\":\"projects/{GCP_PROJECT_ID}/locations/{LOCATION}/entryGroups/databricks/entries/metastore_aws_us_east_2/catalog/samples\",\"entrySource\":{{\"displayName\":\"accuweather\",\"system\":\"custom\"}},\"aspects\":{{\"{GCP_PROJECT_ID}.{LOCATION}.databricks-schema\":{{\"aspectType\":\"{GCP_PROJECT_ID}.{LOCATION}.databricks-schema\",\"data\":{{}}}}}},\"entryType\":\"projects/{GCP_PROJECT_ID}/locations/{LOCATION}/entryTypes/databricks-schema\"}},\"aspectKeys\":[\"{GCP_PROJECT_ID}.{LOCATION}.databricks-schema\"],\"updateMask\":[\"aspects\"]}}\n",
        "{{\"entry\":{{\"name\":\"projects/{GCP_PROJECT_ID}/locations/{LOCATION}/entryGroups/databricks/entries/metastore_aws_us_east_2/catalog/samples/schemas/nyctaxi\",\"fullyQualifiedName\":\"custom:`metastore_aws_us_east_2`.samples.nyctaxi\",\"parentEntry\":\"projects/{GCP_PROJECT_ID}/locations/{LOCATION}/entryGroups/databricks/entries/metastore_aws_us_east_2/catalog/samples\",\"entrySource\":{{\"displayName\":\"nyctaxi\",\"system\":\"custom\"}},\"aspects\":{{\"{GCP_PROJECT_ID}.{LOCATION}.databricks-schema\":{{\"aspectType\":\"{GCP_PROJECT_ID}.{LOCATION}.databricks-schema\",\"data\":{{}}}}}},\"entryType\":\"projects/{GCP_PROJECT_ID}/locations/{LOCATION}/entryTypes/databricks-schema\"}},\"aspectKeys\":[\"{GCP_PROJECT_ID}.{LOCATION}.databricks-schema\"],\"updateMask\":[\"aspects\"]}}\n",
        "{{\"entry\":{{\"name\":\"projects/{GCP_PROJECT_ID}/locations/{LOCATION}/entryGroups/databricks/entries/metastore_aws_us_east_2/catalog/samples/schemas/tpch/tables/customer\",\"fullyQualifiedName\":\"custom:`metastore_aws_us_east_2`.samples.tpch.customer\",\"parentEntry\":\"projects/{GCP_PROJECT_ID}/locations/{LOCATION}/entryGroups/databricks/entries/metastore_aws_us_east_2/catalog/samples/schemas/tpch\",\"entrySource\":{{\"displayName\":\"customer\",\"system\":\"custom\"}},\"aspects\":{{\"dataplex-types.global.schema\":{{\"aspectType\":\"dataplex-types.global.schema\",\"data\":{{\"fields\":[{{\"name\":\"c_custkey\",\"mode\":\"REQUIRED\",\"dataType\":\"LONG\",\"metadataType\":\"NUMBER\"}},{{\"name\":\"c_name\",\"mode\":\"REQUIRED\",\"dataType\":\"STRING\",\"metadataType\":\"STRING\"}},{{\"name\":\"c_address\",\"mode\":\"REQUIRED\",\"dataType\":\"STRING\",\"metadataType\":\"STRING\"}},{{\"name\":\"c_nationkey\",\"mode\":\"REQUIRED\",\"dataType\":\"LONG\",\"metadataType\":\"NUMBER\"}},{{\"name\":\"c_phone\",\"mode\":\"REQUIRED\",\"dataType\":\"STRING\",\"metadataType\":\"STRING\"}},{{\"name\":\"c_acctbal\",\"mode\":\"REQUIRED\",\"dataType\":\"DECIMAL\",\"metadataType\":\"NUMBER\"}},{{\"name\":\"c_mktsegment\",\"mode\":\"REQUIRED\",\"dataType\":\"STRING\",\"metadataType\":\"STRING\"}},{{\"name\":\"c_comment\",\"mode\":\"REQUIRED\",\"dataType\":\"STRING\",\"metadataType\":\"STRING\"}}]}}}},\"{GCP_PROJECT_ID}.{LOCATION}.databricks-table\":{{\"aspectType\":\"{GCP_PROJECT_ID}.{LOCATION}.databricks-table\",\"data\":{{}}}}}},\"entryType\":\"projects/{GCP_PROJECT_ID}/locations/{LOCATION}/entryTypes/databricks-table\"}},\"aspectKeys\":[\"dataplex-types.global.schema\",\"{GCP_PROJECT_ID}.{LOCATION}.databricks-table\"],\"updateMask\":[\"aspects\"]}}\n",
        "{{\"entry\":{{\"name\":\"projects/{GCP_PROJECT_ID}/locations/{LOCATION}/entryGroups/databricks/entries/metastore_aws_us_east_2/catalog/samples/schemas/bakehouse/tables/media_customer_reviews\",\"fullyQualifiedName\":\"custom:`metastore_aws_us_east_2`.samples.bakehouse.media_customer_reviews\",\"parentEntry\":\"projects/{GCP_PROJECT_ID}/locations/{LOCATION}/entryGroups/databricks/entries/metastore_aws_us_east_2/catalog/samples/schemas/bakehouse\",\"entrySource\":{{\"displayName\":\"media_customer_reviews\",\"system\":\"custom\"}},\"aspects\":{{\"dataplex-types.global.schema\":{{\"aspectType\":\"dataplex-types.global.schema\",\"data\":{{\"fields\":[{{\"name\":\"review\",\"mode\":\"REQUIRED\",\"dataType\":\"STRING\",\"metadataType\":\"STRING\"}},{{\"name\":\"franchiseID\",\"mode\":\"REQUIRED\",\"dataType\":\"LONG\",\"metadataType\":\"NUMBER\"}},{{\"name\":\"review_date\",\"mode\":\"REQUIRED\",\"dataType\":\"TIMESTAMP\",\"metadataType\":\"TIMESTAMP\"}},{{\"name\":\"new_id\",\"mode\":\"REQUIRED\",\"dataType\":\"INT\",\"metadataType\":\"NUMBER\"}}]}}}},\"{GCP_PROJECT_ID}.{LOCATION}.databricks-table\":{{\"aspectType\":\"{GCP_PROJECT_ID}.{LOCATION}.databricks-table\",\"data\":{{}}}}}},\"entryType\":\"projects/{GCP_PROJECT_ID}/locations/{LOCATION}/entryTypes/databricks-table\"}},\"aspectKeys\":[\"dataplex-types.global.schema\",\"{GCP_PROJECT_ID}.{LOCATION}.databricks-table\"],\"updateMask\":[\"aspects\"]}}\n",
        "{{\"entry\":{{\"name\":\"projects/{GCP_PROJECT_ID}/locations/{LOCATION}/entryGroups/databricks/entries/metastore_aws_us_east_2/catalog/samples/schemas/bakehouse/tables/media_gold_reviews_chunked\",\"fullyQualifiedName\":\"custom:`metastore_aws_us_east_2`.samples.bakehouse.media_gold_reviews_chunked\",\"parentEntry\":\"projects/{GCP_PROJECT_ID}/locations/{LOCATION}/entryGroups/databricks/entries/metastore_aws_us_east_2/catalog/samples/schemas/bakehouse\",\"entrySource\":{{\"displayName\":\"media_gold_reviews_chunked\",\"system\":\"custom\"}},\"aspects\":{{\"dataplex-types.global.schema\":{{\"aspectType\":\"dataplex-types.global.schema\",\"data\":{{\"fields\":[{{\"name\":\"franchiseID\",\"mode\":\"REQUIRED\",\"dataType\":\"INT\",\"metadataType\":\"NUMBER\"}},{{\"name\":\"review_date\",\"mode\":\"REQUIRED\",\"dataType\":\"TIMESTAMP\",\"metadataType\":\"TIMESTAMP\"}},{{\"name\":\"chunked_text\",\"mode\":\"REQUIRED\",\"dataType\":\"STRING\",\"metadataType\":\"STRING\"}},{{\"name\":\"chunk_id\",\"mode\":\"REQUIRED\",\"dataType\":\"STRING\",\"metadataType\":\"STRING\"}},{{\"name\":\"review_uri\",\"mode\":\"REQUIRED\",\"dataType\":\"STRING\",\"metadataType\":\"STRING\"}}]}}}},\"{GCP_PROJECT_ID}.{LOCATION}.databricks-table\":{{\"aspectType\":\"{GCP_PROJECT_ID}.{LOCATION}.databricks-table\",\"data\":{{}}}}}},\"entryType\":\"projects/{GCP_PROJECT_ID}/locations/{LOCATION}/entryTypes/databricks-table\"}},\"aspectKeys\":[\"dataplex-types.global.schema\",\"{GCP_PROJECT_ID}.{LOCATION}.databricks-table\"],\"updateMask\":[\"aspects\"]}}\n",
        "{{\"entry\":{{\"name\":\"projects/{GCP_PROJECT_ID}/locations/{LOCATION}/entryGroups/databricks/entries/metastore_aws_us_east_2/catalog/samples/schemas/bakehouse/tables/sales_customers\",\"fullyQualifiedName\":\"custom:`metastore_aws_us_east_2`.samples.bakehouse.sales_customers\",\"parentEntry\":\"projects/{GCP_PROJECT_ID}/locations/{LOCATION}/entryGroups/databricks/entries/metastore_aws_us_east_2/catalog/samples/schemas/bakehouse\",\"entrySource\":{{\"displayName\":\"sales_customers\",\"system\":\"custom\"}},\"aspects\":{{\"dataplex-types.global.schema\":{{\"aspectType\":\"dataplex-types.global.schema\",\"data\":{{\"fields\":[{{\"name\":\"customerID\",\"mode\":\"REQUIRED\",\"dataType\":\"LONG\",\"metadataType\":\"NUMBER\"}},{{\"name\":\"first_name\",\"mode\":\"REQUIRED\",\"dataType\":\"STRING\",\"metadataType\":\"STRING\"}},{{\"name\":\"last_name\",\"mode\":\"REQUIRED\",\"dataType\":\"STRING\",\"metadataType\":\"STRING\"}},{{\"name\":\"email_address\",\"mode\":\"REQUIRED\",\"dataType\":\"STRING\",\"metadataType\":\"STRING\"}},{{\"name\":\"phone_number\",\"mode\":\"REQUIRED\",\"dataType\":\"STRING\",\"metadataType\":\"STRING\"}},{{\"name\":\"address\",\"mode\":\"REQUIRED\",\"dataType\":\"STRING\",\"metadataType\":\"STRING\"}},{{\"name\":\"city\",\"mode\":\"REQUIRED\",\"dataType\":\"STRING\",\"metadataType\":\"STRING\"}},{{\"name\":\"state\",\"mode\":\"REQUIRED\",\"dataType\":\"STRING\",\"metadataType\":\"STRING\"}},{{\"name\":\"country\",\"mode\":\"REQUIRED\",\"dataType\":\"STRING\",\"metadataType\":\"STRING\"}},{{\"name\":\"continent\",\"mode\":\"REQUIRED\",\"dataType\":\"STRING\",\"metadataType\":\"STRING\"}},{{\"name\":\"postal_zip_code\",\"mode\":\"REQUIRED\",\"dataType\":\"LONG\",\"metadataType\":\"NUMBER\"}},{{\"name\":\"gender\",\"mode\":\"REQUIRED\",\"dataType\":\"STRING\",\"metadataType\":\"STRING\"}}]}}}},\"{GCP_PROJECT_ID}.{LOCATION}.databricks-table\":{{\"aspectType\":\"{GCP_PROJECT_ID}.{LOCATION}.databricks-table\",\"data\":{{}}}}}},\"entryType\":\"projects/{GCP_PROJECT_ID}/locations/{LOCATION}/entryTypes/databricks-table\"}},\"aspectKeys\":[\"dataplex-types.global.schema\",\"{GCP_PROJECT_ID}.{LOCATION}.databricks-table\"],\"updateMask\":[\"aspects\"]}}\n",
        "{{\"entry\":{{\"name\":\"projects/{GCP_PROJECT_ID}/locations/{LOCATION}/entryGroups/databricks/entries/metastore_aws_us_east_2/catalog/samples/schemas/bakehouse/tables/sales_franchises\",\"fullyQualifiedName\":\"custom:`metastore_aws_us_east_2`.samples.bakehouse.sales_franchises\",\"parentEntry\":\"projects/{GCP_PROJECT_ID}/locations/{LOCATION}/entryGroups/databricks/entries/metastore_aws_us_east_2/catalog/samples/schemas/bakehouse\",\"entrySource\":{{\"displayName\":\"sales_franchises\",\"system\":\"custom\"}},\"aspects\":{{\"dataplex-types.global.schema\":{{\"aspectType\":\"dataplex-types.global.schema\",\"data\":{{\"fields\":[{{\"name\":\"franchiseID\",\"mode\":\"REQUIRED\",\"dataType\":\"LONG\",\"metadataType\":\"NUMBER\"}},{{\"name\":\"name\",\"mode\":\"REQUIRED\",\"dataType\":\"STRING\",\"metadataType\":\"STRING\"}},{{\"name\":\"city\",\"mode\":\"REQUIRED\",\"dataType\":\"STRING\",\"metadataType\":\"STRING\"}},{{\"name\":\"district\",\"mode\":\"REQUIRED\",\"dataType\":\"STRING\",\"metadataType\":\"STRING\"}},{{\"name\":\"zipcode\",\"mode\":\"REQUIRED\",\"dataType\":\"STRING\",\"metadataType\":\"STRING\"}},{{\"name\":\"country\",\"mode\":\"REQUIRED\",\"dataType\":\"STRING\",\"metadataType\":\"STRING\"}},{{\"name\":\"size\",\"mode\":\"REQUIRED\",\"dataType\":\"STRING\",\"metadataType\":\"STRING\"}},{{\"name\":\"longitude\",\"mode\":\"REQUIRED\",\"dataType\":\"DOUBLE\",\"metadataType\":\"NUMBER\"}},{{\"name\":\"latitude\",\"mode\":\"REQUIRED\",\"dataType\":\"DOUBLE\",\"metadataType\":\"NUMBER\"}},{{\"name\":\"supplierID\",\"mode\":\"REQUIRED\",\"dataType\":\"LONG\",\"metadataType\":\"NUMBER\"}}]}}}},\"{GCP_PROJECT_ID}.{LOCATION}.databricks-table\":{{\"aspectType\":\"{GCP_PROJECT_ID}.{LOCATION}.databricks-table\",\"data\":{{}}}}}},\"entryType\":\"projects/{GCP_PROJECT_ID}/locations/{LOCATION}/entryTypes/databricks-table\"}},\"aspectKeys\":[\"dataplex-types.global.schema\",\"{GCP_PROJECT_ID}.{LOCATION}.databricks-table\"],\"updateMask\":[\"aspects\"]}}\n",
        "{{\"entry\":{{\"name\":\"projects/{GCP_PROJECT_ID}/locations/{LOCATION}/entryGroups/databricks/entries/metastore_aws_us_east_2/catalog/samples/schemas/bakehouse/tables/sales_suppliers\",\"fullyQualifiedName\":\"custom:`metastore_aws_us_east_2`.samples.bakehouse.sales_suppliers\",\"parentEntry\":\"projects/{GCP_PROJECT_ID}/locations/{LOCATION}/entryGroups/databricks/entries/metastore_aws_us_east_2/catalog/samples/schemas/bakehouse\",\"entrySource\":{{\"displayName\":\"sales_suppliers\",\"system\":\"custom\"}},\"aspects\":{{\"dataplex-types.global.schema\":{{\"aspectType\":\"dataplex-types.global.schema\",\"data\":{{\"fields\":[{{\"name\":\"supplierID\",\"mode\":\"REQUIRED\",\"dataType\":\"LONG\",\"metadataType\":\"NUMBER\"}},{{\"name\":\"name\",\"mode\":\"REQUIRED\",\"dataType\":\"STRING\",\"metadataType\":\"STRING\"}},{{\"name\":\"ingredient\",\"mode\":\"REQUIRED\",\"dataType\":\"STRING\",\"metadataType\":\"STRING\"}},{{\"name\":\"continent\",\"mode\":\"REQUIRED\",\"dataType\":\"STRING\",\"metadataType\":\"STRING\"}},{{\"name\":\"city\",\"mode\":\"REQUIRED\",\"dataType\":\"STRING\",\"metadataType\":\"STRING\"}},{{\"name\":\"district\",\"mode\":\"REQUIRED\",\"dataType\":\"STRING\",\"metadataType\":\"STRING\"}},{{\"name\":\"size\",\"mode\":\"REQUIRED\",\"dataType\":\"STRING\",\"metadataType\":\"STRING\"}},{{\"name\":\"longitude\",\"mode\":\"REQUIRED\",\"dataType\":\"DOUBLE\",\"metadataType\":\"NUMBER\"}},{{\"name\":\"latitude\",\"mode\":\"REQUIRED\",\"dataType\":\"DOUBLE\",\"metadataType\":\"NUMBER\"}},{{\"name\":\"approved\",\"mode\":\"REQUIRED\",\"dataType\":\"STRING\",\"metadataType\":\"STRING\"}}]}}}},\"{GCP_PROJECT_ID}.{LOCATION}.databricks-table\":{{\"aspectType\":\"{GCP_PROJECT_ID}.{LOCATION}.databricks-table\",\"data\":{{}}}}}},\"entryType\":\"projects/{GCP_PROJECT_ID}/locations/{LOCATION}/entryTypes/databricks-table\"}},\"aspectKeys\":[\"dataplex-types.global.schema\",\"{GCP_PROJECT_ID}.{LOCATION}.databricks-table\"],\"updateMask\":[\"aspects\"]}}\n",
        "{{\"entry\":{{\"name\":\"projects/{GCP_PROJECT_ID}/locations/{LOCATION}/entryGroups/databricks/entries/metastore_aws_us_east_2/catalog/samples/schemas/bakehouse/tables/sales_transactions\",\"fullyQualifiedName\":\"custom:`metastore_aws_us_east_2`.samples.bakehouse.sales_transactions\",\"parentEntry\":\"projects/{GCP_PROJECT_ID}/locations/{LOCATION}/entryGroups/databricks/entries/metastore_aws_us_east_2/catalog/samples/schemas/bakehouse\",\"entrySource\":{{\"displayName\":\"sales_transactions\",\"system\":\"custom\"}},\"aspects\":{{\"dataplex-types.global.schema\":{{\"aspectType\":\"dataplex-types.global.schema\",\"data\":{{\"fields\":[{{\"name\":\"transactionID\",\"mode\":\"REQUIRED\",\"dataType\":\"LONG\",\"metadataType\":\"NUMBER\"}},{{\"name\":\"customerID\",\"mode\":\"REQUIRED\",\"dataType\":\"LONG\",\"metadataType\":\"NUMBER\"}},{{\"name\":\"franchiseID\",\"mode\":\"REQUIRED\",\"dataType\":\"LONG\",\"metadataType\":\"NUMBER\"}},{{\"name\":\"dateTime\",\"mode\":\"REQUIRED\",\"dataType\":\"TIMESTAMP\",\"metadataType\":\"TIMESTAMP\"}},{{\"name\":\"product\",\"mode\":\"REQUIRED\",\"dataType\":\"STRING\",\"metadataType\":\"STRING\"}},{{\"name\":\"quantity\",\"mode\":\"REQUIRED\",\"dataType\":\"LONG\",\"metadataType\":\"NUMBER\"}},{{\"name\":\"unitPrice\",\"mode\":\"REQUIRED\",\"dataType\":\"LONG\",\"metadataType\":\"NUMBER\"}},{{\"name\":\"totalPrice\",\"mode\":\"REQUIRED\",\"dataType\":\"LONG\",\"metadataType\":\"NUMBER\"}},{{\"name\":\"paymentMethod\",\"mode\":\"REQUIRED\",\"dataType\":\"STRING\",\"metadataType\":\"STRING\"}},{{\"name\":\"cardNumber\",\"mode\":\"REQUIRED\",\"dataType\":\"LONG\",\"metadataType\":\"NUMBER\"}}]}}}},\"{GCP_PROJECT_ID}.{LOCATION}.databricks-table\":{{\"aspectType\":\"{GCP_PROJECT_ID}.{LOCATION}.databricks-table\",\"data\":{{}}}}}},\"entryType\":\"projects/{GCP_PROJECT_ID}/locations/{LOCATION}/entryTypes/databricks-table\"}},\"aspectKeys\":[\"dataplex-types.global.schema\",\"{GCP_PROJECT_ID}.{LOCATION}.databricks-table\"],\"updateMask\":[\"aspects\"]}}\n",
        "{{\"entry\":{{\"name\":\"projects/{GCP_PROJECT_ID}/locations/{LOCATION}/entryGroups/databricks/entries/metastore_aws_us_east_2/catalog/samples/schemas/accuweather/tables/forecast_daily_calendar_imperial\",\"fullyQualifiedName\":\"custom:`metastore_aws_us_east_2`.samples.accuweather.forecast_daily_calendar_imperial\",\"parentEntry\":\"projects/{GCP_PROJECT_ID}/locations/{LOCATION}/entryGroups/databricks/entries/metastore_aws_us_east_2/catalog/samples/schemas/accuweather\",\"entrySource\":{{\"displayName\":\"forecast_daily_calendar_imperial\",\"system\":\"custom\"}},\"aspects\":{{\"dataplex-types.global.schema\":{{\"aspectType\":\"dataplex-types.global.schema\",\"data\":{{\"fields\":[{{\"name\":\"city_name\",\"mode\":\"REQUIRED\",\"dataType\":\"STRING\",\"metadataType\":\"STRING\"}},{{\"name\":\"country_code\",\"mode\":\"REQUIRED\",\"dataType\":\"STRING\",\"metadataType\":\"STRING\"}},{{\"name\":\"latitude\",\"mode\":\"REQUIRED\",\"dataType\":\"DOUBLE\",\"metadataType\":\"NUMBER\"}},{{\"name\":\"longitude\",\"mode\":\"REQUIRED\",\"dataType\":\"DOUBLE\",\"metadataType\":\"NUMBER\"}},{{\"name\":\"date\",\"mode\":\"REQUIRED\",\"dataType\":\"DATE\",\"metadataType\":\"DATETIME\"}},{{\"name\":\"cloud_cover_perc_avg\",\"mode\":\"REQUIRED\",\"dataType\":\"INT\",\"metadataType\":\"NUMBER\"}},{{\"name\":\"cloud_cover_perc_max\",\"mode\":\"REQUIRED\",\"dataType\":\"INT\",\"metadataType\":\"NUMBER\"}},{{\"name\":\"cloud_cover_perc_min\",\"mode\":\"REQUIRED\",\"dataType\":\"INT\",\"metadataType\":\"NUMBER\"}},{{\"name\":\"degree_days_cooling\",\"mode\":\"REQUIRED\",\"dataType\":\"DOUBLE\",\"metadataType\":\"NUMBER\"}},{{\"name\":\"degree_days_freezing\",\"mode\":\"REQUIRED\",\"dataType\":\"DOUBLE\",\"metadataType\":\"NUMBER\"}},{{\"name\":\"degree_days_growing\",\"mode\":\"REQUIRED\",\"dataType\":\"DOUBLE\",\"metadataType\":\"NUMBER\"}},{{\"name\":\"degree_days_heating\",\"mode\":\"REQUIRED\",\"dataType\":\"DOUBLE\",\"metadataType\":\"NUMBER\"}},{{\"name\":\"humidity_relative_avg\",\"mode\":\"REQUIRED\",\"dataType\":\"DOUBLE\",\"metadataType\":\"NUMBER\"}},{{\"name\":\"humidity_relative_max\",\"mode\":\"REQUIRED\",\"dataType\":\"DOUBLE\",\"metadataType\":\"NUMBER\"}},{{\"name\":\"humidity_relative_min\",\"mode\":\"REQUIRED\",\"dataType\":\"DOUBLE\",\"metadataType\":\"NUMBER\"}},{{\"name\":\"index_air_quality_24hr_max\",\"mode\":\"REQUIRED\",\"dataType\":\"DOUBLE\",\"metadataType\":\"NUMBER\"}},{{\"name\":\"index_uv_avg\",\"mode\":\"REQUIRED\",\"dataType\":\"DOUBLE\",\"metadataType\":\"NUMBER\"}},{{\"name\":\"index_uv_max\",\"mode\":\"REQUIRED\",\"dataType\":\"DOUBLE\",\"metadataType\":\"NUMBER\"}},{{\"name\":\"index_uv_min\",\"mode\":\"REQUIRED\",\"dataType\":\"DOUBLE\",\"metadataType\":\"NUMBER\"}},{{\"name\":\"minutes_of_ice_total\",\"mode\":\"REQUIRED\",\"dataType\":\"INT\",\"metadataType\":\"NUMBER\"}},{{\"name\":\"minutes_of_precipitation_total\",\"mode\":\"REQUIRED\",\"dataType\":\"INT\",\"metadataType\":\"NUMBER\"}},{{\"name\":\"minutes_of_sun_total\",\"mode\":\"REQUIRED\",\"dataType\":\"INT\",\"metadataType\":\"NUMBER\"}},{{\"name\":\"minutes_of_rain_total\",\"mode\":\"REQUIRED\",\"dataType\":\"INT\",\"metadataType\":\"NUMBER\"}},{{\"name\":\"minutes_of_snow_total\",\"mode\":\"REQUIRED\",\"dataType\":\"INT\",\"metadataType\":\"NUMBER\"}},{{\"name\":\"has_ice\",\"mode\":\"REQUIRED\",\"dataType\":\"BOOLEAN\",\"metadataType\":\"BOOLEAN\"}},{{\"name\":\"ice_lwe_rate_avg\",\"mode\":\"REQUIRED\",\"dataType\":\"DOUBLE\",\"metadataType\":\"NUMBER\"}},{{\"name\":\"ice_lwe_rate_max\",\"mode\":\"REQUIRED\",\"dataType\":\"DOUBLE\",\"metadataType\":\"NUMBER\"}},{{\"name\":\"ice_lwe_rate_min\",\"mode\":\"REQUIRED\",\"dataType\":\"DOUBLE\",\"metadataType\":\"NUMBER\"}},{{\"name\":\"ice_lwe_total\",\"mode\":\"REQUIRED\",\"dataType\":\"DOUBLE\",\"metadataType\":\"NUMBER\"}},{{\"name\":\"ice_probability\",\"mode\":\"REQUIRED\",\"dataType\":\"INT\",\"metadataType\":\"NUMBER\"}},{{\"name\":\"has_precipitation\",\"mode\":\"REQUIRED\",\"dataType\":\"BOOLEAN\",\"metadataType\":\"BOOLEAN\"}},{{\"name\":\"precipitation_lwe_rate_avg\",\"mode\":\"REQUIRED\",\"dataType\":\"DOUBLE\",\"metadataType\":\"NUMBER\"}},{{\"name\":\"precipitation_lwe_rate_max\",\"mode\":\"REQUIRED\",\"dataType\":\"DOUBLE\",\"metadataType\":\"NUMBER\"}},{{\"name\":\"precipitation_lwe_rate_min\",\"mode\":\"REQUIRED\",\"dataType\":\"DOUBLE\",\"metadataType\":\"NUMBER\"}},{{\"name\":\"precipitation_lwe_total\",\"mode\":\"REQUIRED\",\"dataType\":\"DOUBLE\",\"metadataType\":\"NUMBER\"}},{{\"name\":\"precipitation_probability\",\"mode\":\"REQUIRED\",\"dataType\":\"INT\",\"metadataType\":\"NUMBER\"}},{{\"name\":\"precipitation_type_desc_predominant\",\"mode\":\"REQUIRED\",\"dataType\":\"STRING\",\"metadataType\":\"STRING\"}},{{\"name\":\"has_rain\",\"mode\":\"REQUIRED\",\"dataType\":\"BOOLEAN\",\"metadataType\":\"BOOLEAN\"}},{{\"name\":\"rain_lwe_rate_avg\",\"mode\":\"REQUIRED\",\"dataType\":\"DOUBLE\",\"metadataType\":\"NUMBER\"}},{{\"name\":\"rain_lwe_rate_max\",\"mode\":\"REQUIRED\",\"dataType\":\"DOUBLE\",\"metadataType\":\"NUMBER\"}},{{\"name\":\"rain_lwe_rate_min\",\"mode\":\"REQUIRED\",\"dataType\":\"DOUBLE\",\"metadataType\":\"NUMBER\"}},{{\"name\":\"rain_lwe_total\",\"mode\":\"REQUIRED\",\"dataType\":\"DOUBLE\",\"metadataType\":\"NUMBER\"}},{{\"name\":\"rain_probability\",\"mode\":\"REQUIRED\",\"dataType\":\"INT\",\"metadataType\":\"NUMBER\"}},{{\"name\":\"snow_liquid_ratio_accuweather_avg\",\"mode\":\"REQUIRED\",\"dataType\":\"DOUBLE\",\"metadataType\":\"NUMBER\"}},{{\"name\":\"snow_liquid_ratio_accuweather_max\",\"mode\":\"REQUIRED\",\"dataType\":\"DOUBLE\",\"metadataType\":\"NUMBER\"}},{{\"name\":\"snow_liquid_ratio_accuweather_min\",\"mode\":\"REQUIRED\",\"dataType\":\"DOUBLE\",\"metadataType\":\"NUMBER\"}},{{\"name\":\"has_snow\",\"mode\":\"REQUIRED\",\"dataType\":\"BOOLEAN\",\"metadataType\":\"BOOLEAN\"}},{{\"name\":\"snow_avg\",\"mode\":\"REQUIRED\",\"dataType\":\"DOUBLE\",\"metadataType\":\"NUMBER\"}},{{\"name\":\"snow_max\",\"mode\":\"REQUIRED\",\"dataType\":\"DOUBLE\",\"metadataType\":\"NUMBER\"}},{{\"name\":\"snow_min\",\"mode\":\"REQUIRED\",\"dataType\":\"DOUBLE\",\"metadataType\":\"NUMBER\"}},{{\"name\":\"snow_total\",\"mode\":\"REQUIRED\",\"dataType\":\"DOUBLE\",\"metadataType\":\"NUMBER\"}},{{\"name\":\"snow_lwe_rate_avg\",\"mode\":\"REQUIRED\",\"dataType\":\"DOUBLE\",\"metadataType\":\"NUMBER\"}},{{\"name\":\"snow_lwe_rate_max\",\"mode\":\"REQUIRED\",\"dataType\":\"DOUBLE\",\"metadataType\":\"NUMBER\"}},{{\"name\":\"snow_lwe_rate_min\",\"mode\":\"REQUIRED\",\"dataType\":\"DOUBLE\",\"metadataType\":\"NUMBER\"}},{{\"name\":\"snow_lwe_total\",\"mode\":\"REQUIRED\",\"dataType\":\"DOUBLE\",\"metadataType\":\"NUMBER\"}},{{\"name\":\"snow_probability\",\"mode\":\"REQUIRED\",\"dataType\":\"INT\",\"metadataType\":\"NUMBER\"}},{{\"name\":\"solar_irradiance_avg\",\"mode\":\"REQUIRED\",\"dataType\":\"DOUBLE\",\"metadataType\":\"NUMBER\"}},{{\"name\":\"solar_irradiance_max\",\"mode\":\"REQUIRED\",\"dataType\":\"DOUBLE\",\"metadataType\":\"NUMBER\"}},{{\"name\":\"solar_irradiance_total\",\"mode\":\"REQUIRED\",\"dataType\":\"DOUBLE\",\"metadataType\":\"NUMBER\"}},{{\"name\":\"temperature_avg\",\"mode\":\"REQUIRED\",\"dataType\":\"DOUBLE\",\"metadataType\":\"NUMBER\"}},{{\"name\":\"temperature_max\",\"mode\":\"REQUIRED\",\"dataType\":\"DOUBLE\",\"metadataType\":\"NUMBER\"}},{{\"name\":\"temperature_min\",\"mode\":\"REQUIRED\",\"dataType\":\"DOUBLE\",\"metadataType\":\"NUMBER\"}},{{\"name\":\"temperature_dew_point_avg\",\"mode\":\"REQUIRED\",\"dataType\":\"DOUBLE\",\"metadataType\":\"NUMBER\"}},{{\"name\":\"temperature_dew_point_max\",\"mode\":\"REQUIRED\",\"dataType\":\"DOUBLE\",\"metadataType\":\"NUMBER\"}},{{\"name\":\"temperature_dew_point_min\",\"mode\":\"REQUIRED\",\"dataType\":\"DOUBLE\",\"metadataType\":\"NUMBER\"}},{{\"name\":\"temperature_heat_index_avg\",\"mode\":\"REQUIRED\",\"dataType\":\"DOUBLE\",\"metadataType\":\"NUMBER\"}},{{\"name\":\"temperature_heat_index_max\",\"mode\":\"REQUIRED\",\"dataType\":\"DOUBLE\",\"metadataType\":\"NUMBER\"}},{{\"name\":\"temperature_heat_index_min\",\"mode\":\"REQUIRED\",\"dataType\":\"DOUBLE\",\"metadataType\":\"NUMBER\"}},{{\"name\":\"temperature_realfeel_avg\",\"mode\":\"REQUIRED\",\"dataType\":\"DOUBLE\",\"metadataType\":\"NUMBER\"}},{{\"name\":\"temperature_realfeel_max\",\"mode\":\"REQUIRED\",\"dataType\":\"DOUBLE\",\"metadataType\":\"NUMBER\"}},{{\"name\":\"temperature_realfeel_min\",\"mode\":\"REQUIRED\",\"dataType\":\"DOUBLE\",\"metadataType\":\"NUMBER\"}},{{\"name\":\"temperature_realfeel_shade_avg\",\"mode\":\"REQUIRED\",\"dataType\":\"DOUBLE\",\"metadataType\":\"NUMBER\"}},{{\"name\":\"temperature_realfeel_shade_max\",\"mode\":\"REQUIRED\",\"dataType\":\"DOUBLE\",\"metadataType\":\"NUMBER\"}},{{\"name\":\"temperature_realfeel_shade_min\",\"mode\":\"REQUIRED\",\"dataType\":\"DOUBLE\",\"metadataType\":\"NUMBER\"}},{{\"name\":\"temperature_wind_chill_avg\",\"mode\":\"REQUIRED\",\"dataType\":\"DOUBLE\",\"metadataType\":\"NUMBER\"}},{{\"name\":\"temperature_wind_chill_max\",\"mode\":\"REQUIRED\",\"dataType\":\"DOUBLE\",\"metadataType\":\"NUMBER\"}},{{\"name\":\"temperature_wind_chill_min\",\"mode\":\"REQUIRED\",\"dataType\":\"DOUBLE\",\"metadataType\":\"NUMBER\"}},{{\"name\":\"visibility_avg\",\"mode\":\"REQUIRED\",\"dataType\":\"DOUBLE\",\"metadataType\":\"NUMBER\"}},{{\"name\":\"visibility_max\",\"mode\":\"REQUIRED\",\"dataType\":\"DOUBLE\",\"metadataType\":\"NUMBER\"}},{{\"name\":\"visibility_min\",\"mode\":\"REQUIRED\",\"dataType\":\"DOUBLE\",\"metadataType\":\"NUMBER\"}},{{\"name\":\"wind_direction_avg\",\"mode\":\"REQUIRED\",\"dataType\":\"DOUBLE\",\"metadataType\":\"NUMBER\"}},{{\"name\":\"wind_gust_avg\",\"mode\":\"REQUIRED\",\"dataType\":\"DOUBLE\",\"metadataType\":\"NUMBER\"}},{{\"name\":\"wind_gust_max\",\"mode\":\"REQUIRED\",\"dataType\":\"DOUBLE\",\"metadataType\":\"NUMBER\"}},{{\"name\":\"wind_gust_min\",\"mode\":\"REQUIRED\",\"dataType\":\"DOUBLE\",\"metadataType\":\"NUMBER\"}},{{\"name\":\"wind_gust_direction_avg\",\"mode\":\"REQUIRED\",\"dataType\":\"DOUBLE\",\"metadataType\":\"NUMBER\"}},{{\"name\":\"wind_speed_avg\",\"mode\":\"REQUIRED\",\"dataType\":\"DOUBLE\",\"metadataType\":\"NUMBER\"}},{{\"name\":\"wind_speed_max\",\"mode\":\"REQUIRED\",\"dataType\":\"DOUBLE\",\"metadataType\":\"NUMBER\"}},{{\"name\":\"wind_speed_min\",\"mode\":\"REQUIRED\",\"dataType\":\"DOUBLE\",\"metadataType\":\"NUMBER\"}}]}}}},\"{GCP_PROJECT_ID}.{LOCATION}.databricks-table\":{{\"aspectType\":\"{GCP_PROJECT_ID}.{LOCATION}.databricks-table\",\"data\":{{}}}}}},\"entryType\":\"projects/{GCP_PROJECT_ID}/locations/{LOCATION}/entryTypes/databricks-table\"}},\"aspectKeys\":[\"dataplex-types.global.schema\",\"{GCP_PROJECT_ID}.{LOCATION}.databricks-table\"],\"updateMask\":[\"aspects\"]}}\n",
        "{{\"entry\":{{\"name\":\"projects/{GCP_PROJECT_ID}/locations/{LOCATION}/entryGroups/databricks/entries/metastore_aws_us_east_2/catalog/samples/schemas/nyctaxi/tables/trips\",\"fullyQualifiedName\":\"custom:`metastore_aws_us_east_2`.samples.nyctaxi.trips\",\"parentEntry\":\"projects/{GCP_PROJECT_ID}/locations/{LOCATION}/entryGroups/databricks/entries/metastore_aws_us_east_2/catalog/samples/schemas/nyctaxi\",\"entrySource\":{{\"displayName\":\"trips\",\"system\":\"custom\"}},\"aspects\":{{\"dataplex-types.global.schema\":{{\"aspectType\":\"dataplex-types.global.schema\",\"data\":{{\"fields\":[{{\"name\":\"tpep_pickup_datetime\",\"mode\":\"REQUIRED\",\"dataType\":\"TIMESTAMP\",\"metadataType\":\"TIMESTAMP\"}},{{\"name\":\"tpep_dropoff_datetime\",\"mode\":\"REQUIRED\",\"dataType\":\"TIMESTAMP\",\"metadataType\":\"TIMESTAMP\"}},{{\"name\":\"trip_distance\",\"mode\":\"REQUIRED\",\"dataType\":\"DOUBLE\",\"metadataType\":\"NUMBER\"}},{{\"name\":\"fare_amount\",\"mode\":\"REQUIRED\",\"dataType\":\"DOUBLE\",\"metadataType\":\"NUMBER\"}},{{\"name\":\"pickup_zip\",\"mode\":\"REQUIRED\",\"dataType\":\"INT\",\"metadataType\":\"NUMBER\"}},{{\"name\":\"dropoff_zip\",\"mode\":\"REQUIRED\",\"dataType\":\"INT\",\"metadataType\":\"NUMBER\"}}]}}}},\"{GCP_PROJECT_ID}.{LOCATION}.databricks-table\":{{\"aspectType\":\"{GCP_PROJECT_ID}.{LOCATION}.databricks-table\",\"data\":{{}}}}}},\"entryType\":\"projects/{GCP_PROJECT_ID}/locations/{LOCATION}/entryTypes/databricks-table\"}},\"aspectKeys\":[\"dataplex-types.global.schema\",\"{GCP_PROJECT_ID}.{LOCATION}.databricks-table\"],\"updateMask\":[\"aspects\"]}}\n",
        "\"\"\"\n",
        "\n",
        "#load csv file to gcs storage\n",
        "print(dataplex_import_payload_json)\n",
        "storage_client = storage.Client(project=GCP_PROJECT_ID)\n",
        "storage_client.bucket(IMPORT_BUCKET_NAME).blob(IMPORT_FILE).upload_from_string(dataplex_import_payload_json)\n",
        "print(f\"CSV file '{IMPORT_FILE}' loaded to GCS Bucket '{IMPORT_BUCKET_NAME}'.\")\n"
      ]
    },
    {
      "cell_type": "code",
      "execution_count": null,
      "id": "2b0apTZYpMHe",
      "metadata": {
        "id": "2b0apTZYpMHe"
      },
      "outputs": [],
      "source": [
        "\n",
        "\n",
        "request_body = {\n",
        "    \"type\": \"IMPORT\",\n",
        "    \"import_spec\": {\n",
        "        \"source_storage_uri\": f\"gs://{IMPORT_BUCKET_NAME}/\",\n",
        "        \"entry_sync_mode\": \"FULL\",\n",
        "        \"aspect_sync_mode\": \"INCREMENTAL\",\n",
        "        \"log_level\": \"DEBUG\",\n",
        "        \"scope\": {\n",
        "            \"entry_groups\": [\n",
        "                f\"projects/{GCP_PROJECT_ID}/locations/{LOCATION}/entryGroups/databricks\"\n",
        "            ],\n",
        "            \"entry_types\": [\n",
        "                f\"projects/{GCP_PROJECT_ID}/locations/{LOCATION}/entryTypes/databricks-metastore\",\n",
        "                f\"projects/{GCP_PROJECT_ID}/locations/{LOCATION}/entryTypes/databricks-catalog\",\n",
        "                f\"projects/{GCP_PROJECT_ID}/locations/{LOCATION}/entryTypes/databricks-schema\",\n",
        "                f\"projects/{GCP_PROJECT_ID}/locations/{LOCATION}/entryTypes/databricks-table\",\n",
        "                f\"projects/{GCP_PROJECT_ID}/locations/{LOCATION}/entryTypes/databricks-view\",\n",
        "                f\"projects/{GCP_PROJECT_ID}/locations/{LOCATION}/entryTypes/databricks-functions\",\n",
        "                f\"projects/{GCP_PROJECT_ID}/locations/{LOCATION}/entryTypes/databricks-models\",\n",
        "                f\"projects/{GCP_PROJECT_ID}/locations/{LOCATION}/entryTypes/databricks-volumes\"\n",
        "            ],\n",
        "            \"aspect_types\": [\n",
        "                f\"projects/{GCP_PROJECT_ID}/locations/{LOCATION}/aspectTypes/databricks-metastore\",\n",
        "                \"projects/dataplex-types/locations/global/aspectTypes/schema\",\n",
        "                f\"projects/{GCP_PROJECT_ID}/locations/{LOCATION}/aspectTypes/databricks-catalog\",\n",
        "                f\"projects/{GCP_PROJECT_ID}/locations/{LOCATION}/aspectTypes/databricks-schema\",\n",
        "                f\"projects/{GCP_PROJECT_ID}/locations/{LOCATION}/aspectTypes/databricks-table\",\n",
        "                f\"projects/{GCP_PROJECT_ID}/locations/{LOCATION}/aspectTypes/databricks-view\",\n",
        "                f\"projects/{GCP_PROJECT_ID}/locations/{LOCATION}/aspectTypes/databricks-functions\",\n",
        "                f\"projects/{GCP_PROJECT_ID}/locations/{LOCATION}/aspectTypes/databricks-models\",\n",
        "                f\"projects/{GCP_PROJECT_ID}/locations/{LOCATION}/aspectTypes/databricks-volumes\"\n",
        "            ]\n",
        "        }\n",
        "    }\n",
        "}\n"
      ]
    },
    {
      "cell_type": "code",
      "execution_count": null,
      "id": "96w1wB3ZpklO",
      "metadata": {
        "id": "96w1wB3ZpklO"
      },
      "outputs": [],
      "source": [
        "\n",
        "url = f\"https://dataplex.googleapis.com/v1/projects/{GCP_PROJECT_ID}/locations/{LOCATION}/metadataJobs\"\n",
        "response = call_google_api(url, \"POST\", request_body)\n",
        "metadata_job_target = response['metadata']['target']\n",
        "pretty_json = json.dumps(response, indent=4, sort_keys=True)\n",
        "print(pretty_json)"
      ]
    },
    {
      "cell_type": "code",
      "execution_count": null,
      "id": "tIKieMphsfUr",
      "metadata": {
        "id": "tIKieMphsfUr"
      },
      "outputs": [],
      "source": [
        "status_url = f\"https://dataplex.googleapis.com/v1/{metadata_job_target}\"\n",
        "response = call_google_api(status_url, \"GET\")\n",
        "pretty_json = json.dumps(response, indent=4, sort_keys=True)\n",
        "print(pretty_json)"
      ]
    }
  ],
  "metadata": {
    "colab": {
      "provenance": [],
      "name": "03 - Import Metadata"
    },
    "kernelspec": {
      "display_name": "Python 3",
      "language": "python",
      "name": "python3"
    },
    "language_info": {
      "codemirror_mode": {
        "name": "ipython",
        "version": 3
      },
      "file_extension": ".py",
      "mimetype": "text/x-python",
      "name": "python",
      "nbconvert_exporter": "python",
      "pygments_lexer": "ipython3",
      "version": "3.10.10"
    }
  },
  "nbformat": 4,
  "nbformat_minor": 5
}